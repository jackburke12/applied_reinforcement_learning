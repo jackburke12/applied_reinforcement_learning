{
  "cells": [
    {
      "cell_type": "markdown",
      "id": "d2ba6549-8b15-4f95-9615-549dd5fa2f7c",
      "metadata": {
        "id": "d2ba6549-8b15-4f95-9615-549dd5fa2f7c"
      },
      "source": [
        "### Lab: Navigating the Lunar Lander with a Dueling Deep Q Network\n",
        "\n",
        "### University of Virginia\n",
        "### Reinforcement Learning\n",
        "#### Last updated: February 27, 2024\n",
        "\n",
        "---"
      ]
    },
    {
      "cell_type": "markdown",
      "id": "2afeab41-bd5f-40e8-ad2f-e8999f13ed45",
      "metadata": {
        "id": "2afeab41-bd5f-40e8-ad2f-e8999f13ed45"
      },
      "source": [
        "#### Instructions:\n",
        "\n",
        "You will work with the `LunarLander-v2` environment from `gymnasium` in this lab.  \n",
        "\n",
        "An overview of the environment can be found [here](https://gymnasium.farama.org/).  \n",
        "If you're curious about the source code, see [here](https://github.com/Farama-Foundation/Gymnasium/blob/main/gymnasium/envs/box2d/lunar_lander.py).\n",
        "\n",
        "Your mission will be to implement a dueling deep Q -network using PyTorch.  \n",
        "You might run this on Colab.\n",
        "\n",
        "There are a few specific tasks outlined below for you to solve.\n",
        "\n",
        "The bigger tasks will be to:\n",
        "\n",
        "- Show that the algorithm works to train the agent in the environment\n",
        "- Run episodes and show the results\n",
        "\n",
        "**Submission**  \n",
        "As you will likely have several files including this notebook, you can zip all files and submit.\n",
        "\n",
        "---"
      ]
    },
    {
      "cell_type": "markdown",
      "id": "285f77b4-736e-4287-a570-2ecb5158e1b5",
      "metadata": {
        "id": "285f77b4-736e-4287-a570-2ecb5158e1b5"
      },
      "source": [
        "![lunar](https://github.com/jackburke12/applied_reinforcement_learning/blob/main/07_deep_q_networks_extensions2/lunar_lander1.png?raw=1)"
      ]
    },
    {
      "cell_type": "markdown",
      "id": "7c322b08-1720-43e0-a3b0-0788fc33b6a7",
      "metadata": {
        "id": "7c322b08-1720-43e0-a3b0-0788fc33b6a7"
      },
      "source": [
        "#### TOTAL POINTS: 12\n",
        "\n",
        "---"
      ]
    },
    {
      "cell_type": "markdown",
      "id": "aaec7e91-2f9e-4bae-8605-6a7f0d46e8a9",
      "metadata": {
        "id": "aaec7e91-2f9e-4bae-8605-6a7f0d46e8a9"
      },
      "source": [
        "**Hint:** Modules you may need to install include:"
      ]
    },
    {
      "cell_type": "markdown",
      "id": "15e46143-14c0-45da-8268-2a4c7295ca0c",
      "metadata": {
        "id": "15e46143-14c0-45da-8268-2a4c7295ca0c"
      },
      "source": [
        "swig  \n",
        "gym[box2d]  \n",
        "gymnasium"
      ]
    },
    {
      "cell_type": "markdown",
      "id": "53817399-20ed-42eb-ae9e-9b76369de8eb",
      "metadata": {
        "id": "53817399-20ed-42eb-ae9e-9b76369de8eb"
      },
      "source": [
        "#### 1) What is the penalty for crashing?  \n",
        "**(POINTS: 1)**\n"
      ]
    },
    {
      "cell_type": "markdown",
      "id": "0599cdf7-e5b8-4d62-8ac1-bd507f10084a",
      "metadata": {
        "id": "0599cdf7-e5b8-4d62-8ac1-bd507f10084a"
      },
      "source": [
        "-100 is the penalty for crashing."
      ]
    },
    {
      "cell_type": "markdown",
      "id": "7a304cd5-72e7-4f53-95d4-1cb9fcfb1d1f",
      "metadata": {
        "id": "7a304cd5-72e7-4f53-95d4-1cb9fcfb1d1f"
      },
      "source": [
        "#### 2) Set up the environment and run 2 steps by taking random actions.\n",
        "**(POINTS: 1)**"
      ]
    },
    {
      "cell_type": "code",
      "source": [
        "import gymnasium as gym\n",
        "\n",
        "env = gym.make(\"LunarLander-v3\", render_mode=\"human\")\n",
        "obs, info = env.reset()\n",
        "print(\"Initial Observation: \", obs)\n",
        "\n",
        "for step in range(2):\n",
        "    action = env.action_space.sample()\n",
        "    next_obs, reward, terminated, truncated, info = env.step(action)\n",
        "    print(f\"Step {step+1}\")\n",
        "    print(\"Action:\", action)\n",
        "    print(\"Next obs:\", next_obs)\n",
        "    print(\"Reward:\", reward, \"Terminated:\", terminated, \"Truncated:\", truncated)"
      ],
      "metadata": {
        "colab": {
          "base_uri": "https://localhost:8080/"
        },
        "id": "ZHcWGe2ih23H",
        "outputId": "65a8c599-a322-45de-b5ac-4430c210c6f1"
      },
      "id": "ZHcWGe2ih23H",
      "execution_count": 7,
      "outputs": [
        {
          "output_type": "stream",
          "name": "stdout",
          "text": [
            "Initial Observation:  [-0.0053813   1.4043136  -0.5450865  -0.29364684  0.00624241  0.12347026\n",
            "  0.          0.        ]\n",
            "Step 1\n",
            "Action: 1\n",
            "Next obs: [-0.0108407   1.3971329  -0.55409133 -0.31919786  0.01429689  0.16110553\n",
            "  0.          0.        ]\n",
            "Reward: -2.151115201650667 Terminated: False Truncated: False\n",
            "Step 2\n",
            "Action: 0\n",
            "Next obs: [-0.01630039  1.3893526  -0.55411613 -0.3458882   0.02234662  0.16100982\n",
            "  0.          0.        ]\n",
            "Reward: -1.4076542823901264 Terminated: False Truncated: False\n"
          ]
        }
      ]
    },
    {
      "cell_type": "markdown",
      "id": "e6704924-c33d-4135-bd79-7ffef75e7aa9",
      "metadata": {
        "id": "e6704924-c33d-4135-bd79-7ffef75e7aa9"
      },
      "source": [
        "#### 3) Briefly discuss your approach to solving the problem  \n",
        "**(POINTS: 2)**\n",
        "\n"
      ]
    },
    {
      "cell_type": "markdown",
      "source": [
        "The environment provides an 8-dimensional continuous state vector and 4 discrete actions: do nothing, fire left, fire main, and fire right. We'll create a dueling deep Q-network to land the module safely.\n",
        "\n",
        "Our network will consist of an 8-feature input layer that takes the state vector as input. Two connected layers will be split into a value stream, V(s), and advantage stream, A(s,a). This is the core of the dueling network architecture. The streams will then combine to form Q(s,a), the state-action value function.\n",
        "\n",
        "We will also use a replay buffer to store transitions, and sample from mini-batches for training. A target network will provide stable Q-targets and will be updated periodically from the online policy network.\n",
        "\n",
        "The train step will compute the temporal-difference loss and update network parameters via gradient descent."
      ],
      "metadata": {
        "id": "p9DPfA7Ti0hu"
      },
      "id": "p9DPfA7Ti0hu"
    },
    {
      "cell_type": "markdown",
      "id": "894d315f-ed95-4b9a-b6f5-53e1305d272a",
      "metadata": {
        "id": "894d315f-ed95-4b9a-b6f5-53e1305d272a"
      },
      "source": [
        "#### 4) Create supporting code files (`.py` format) to create the agent, train, and run episodes\n",
        "**(POINTS: 6)**\n",
        "\n",
        "Your code should include:\n",
        "\n",
        "- **(POINTS: 1)** A class for the dueling DQN agent\n",
        "- **(POINTS: 1)** An architecture with separate Value and Advantage streams\n",
        "- **(POINTS: 1)** A method called `forward()` for the forward pass of the algorithm\n",
        "- **(POINTS: 1)** A replay buffer\n",
        "- **(POINTS: 1)** A training function\n",
        "- **(POINTS: 1)** A function to run episodes"
      ]
    },
    {
      "cell_type": "code",
      "source": [
        "import torch\n",
        "import torch.nn as nn\n",
        "import torch.nn.functional as F\n",
        "import numpy as np\n",
        "import random\n",
        "from collections import deque"
      ],
      "metadata": {
        "id": "YJ6A8Ry9lZSQ"
      },
      "id": "YJ6A8Ry9lZSQ",
      "execution_count": 14,
      "outputs": []
    },
    {
      "cell_type": "code",
      "execution_count": 24,
      "id": "3039df88-158c-455d-9333-4a8fcd7d7ad2",
      "metadata": {
        "id": "3039df88-158c-455d-9333-4a8fcd7d7ad2"
      },
      "outputs": [],
      "source": [
        "class DuelingDQN(nn.Module):\n",
        "  def __init__(self, state_dim, action_dim):\n",
        "    super(DuelingDQN, self).__init__()\n",
        "    self.shared = nn.Sequential(\n",
        "        nn.Linear(state_dim, 128),\n",
        "        nn.ReLU(),\n",
        "        nn.Linear(128,128),\n",
        "        nn.ReLU()\n",
        "    )\n",
        "\n",
        "    self.value_stream = nn.Sequential(\n",
        "        nn.Linear(128,64),\n",
        "        nn.ReLU(),\n",
        "        nn.Linear(64,1)\n",
        "    )\n",
        "\n",
        "    self.advantage_stream = nn.Sequential(\n",
        "        nn.Linear(128,64),\n",
        "        nn.ReLU(),\n",
        "        nn.Linear(64, action_dim)\n",
        "    )\n",
        "\n",
        "  def forward(self, state):\n",
        "    x = self.shared(state)\n",
        "    value = self.value_stream(x)\n",
        "    advantage = self.advantage_stream(x)\n",
        "    #combine value and advantage streams. An average of the advantage function is used, like the dueling q-network paper\n",
        "    q_values = value + (advantage - advantage.mean(dim=1, keepdim = True))\n",
        "    return q_values\n",
        "\n",
        "class ReplayBuffer:\n",
        "  def __init__(self, capacity):\n",
        "    self.buffer = deque(maxlen=capacity)\n",
        "\n",
        "  def push(self, state, action, reward, next_state, done):\n",
        "    self.buffer.append((state, action, reward, next_state, done))\n",
        "\n",
        "  def sample(self, batch_size):\n",
        "    batch = random.sample(self.buffer, batch_size)\n",
        "    states, actions, rewards, next_states, dones = map(np.array, zip(*batch))\n",
        "    return (\n",
        "        torch.FloatTensor(states),\n",
        "        torch.LongTensor(actions),\n",
        "        torch.FloatTensor(rewards),\n",
        "        torch.FloatTensor(next_states),\n",
        "        torch.FloatTensor(dones)\n",
        "    )\n",
        "\n",
        "  def __len__(self):\n",
        "    return len(self.buffer)\n",
        "\n",
        "def train_step(policy_net, target_net, optimizer, replay_buffer, batch_size, gamma):\n",
        "  if len(replay_buffer) < batch_size:\n",
        "    return None\n",
        "\n",
        "  states, actions, rewards, next_states, dones = replay_buffer.sample(batch_size)\n",
        "\n",
        "  q_values = policy_net(states).gather(1, actions.unsqueeze(1)).squeeze(1)\n",
        "\n",
        "  with torch.no_grad():\n",
        "    max_next_q = target_net(next_states).max(1)[0]\n",
        "    target = rewards + gamma * max_next_q * (1-dones)\n",
        "\n",
        "  loss = F.mse_loss(q_values, target)\n",
        "\n",
        "  optimizer.zero_grad()\n",
        "  loss.backward()\n",
        "  optimizer.step()\n",
        "\n",
        "  return loss.item()\n",
        "\n",
        "def run_episodes(\n",
        "    env_name = \"LunarLander-v3\",\n",
        "    num_episodes = 100,\n",
        "    gamma = 0.99,\n",
        "    lr = 1e-3,\n",
        "    batch_size = 64,\n",
        "    buffer_capacity = 100000,\n",
        "    epsilon = 0.05,\n",
        "    target_update_freq = 10\n",
        "):\n",
        "\n",
        "  env = gym.make(env_name)\n",
        "  state_dim = env.observation_space.shape[0]\n",
        "  action_dim = env.action_space.n\n",
        "\n",
        "  policy_net = DuelingDQN(state_dim, action_dim)\n",
        "  target_net = DuelingDQN(state_dim, action_dim)\n",
        "  target_net.load_state_dict(policy_net.state_dict())\n",
        "  target_net.eval()\n",
        "\n",
        "  optimizer = torch.optim.Adam(policy_net.parameters(), lr=lr)\n",
        "  replay_buffer = ReplayBuffer(buffer_capacity)\n",
        "\n",
        "  rewards_history = []\n",
        "\n",
        "  for episode in range(num_episodes):\n",
        "    state, info = env.reset()\n",
        "    total_reward = 0\n",
        "    done = False\n",
        "\n",
        "    while not done:\n",
        "      if np.random.rand() < epsilon:\n",
        "        action = env.action_space.sample()\n",
        "      else:\n",
        "        state_tensor = torch.FloatTensor(state).unsqueeze(0)\n",
        "        q_values = policy_net(state_tensor)\n",
        "        action = q_values.argmax().item()\n",
        "\n",
        "      next_state, reward, terminated, truncated, info = env.step(action)\n",
        "      done = terminated or truncated\n",
        "\n",
        "      replay_buffer.push(state, action, reward, next_state, done)\n",
        "      state = next_state\n",
        "      total_reward += reward\n",
        "\n",
        "      loss = train_step(policy_net, target_net, optimizer, replay_buffer, batch_size, gamma)\n",
        "\n",
        "    if episode % target_update_freq == 0:\n",
        "      target_net.load_state_dict(policy_net.state_dict())\n",
        "\n",
        "    rewards_history.append(total_reward)\n",
        "    print(f\"Episode {episode+1}/{num_episodes} | Reward: {total_reward:.1f} | Epsilon: {epsilon:.3f}\")\n",
        "\n",
        "  env.close()\n",
        "  return rewards_history"
      ]
    },
    {
      "cell_type": "markdown",
      "id": "7259568c-0352-4271-94cf-28361e1cabec",
      "metadata": {
        "id": "7259568c-0352-4271-94cf-28361e1cabec"
      },
      "source": [
        "#### 5) Run the training and show evidence that the agent is learning.  \n",
        "\n",
        "For example, its average reward (score) should increase with more episodes.\n",
        "\n",
        "**(POINTS: 1 if successful)**"
      ]
    },
    {
      "cell_type": "code",
      "execution_count": 25,
      "id": "fe3a90f5-4fe6-41fc-88a0-1d234672b3a4",
      "metadata": {
        "colab": {
          "base_uri": "https://localhost:8080/"
        },
        "id": "fe3a90f5-4fe6-41fc-88a0-1d234672b3a4",
        "outputId": "19e0ee58-a1f0-4039-e750-c5292e7955a1"
      },
      "outputs": [
        {
          "output_type": "stream",
          "name": "stdout",
          "text": [
            "Episode 1/100 | Reward: -397.5 | Epsilon: 0.050\n",
            "Episode 2/100 | Reward: -118.6 | Epsilon: 0.050\n",
            "Episode 3/100 | Reward: -424.9 | Epsilon: 0.050\n",
            "Episode 4/100 | Reward: -223.7 | Epsilon: 0.050\n",
            "Episode 5/100 | Reward: -653.8 | Epsilon: 0.050\n",
            "Episode 6/100 | Reward: -462.6 | Epsilon: 0.050\n",
            "Episode 7/100 | Reward: -474.9 | Epsilon: 0.050\n",
            "Episode 8/100 | Reward: -450.4 | Epsilon: 0.050\n",
            "Episode 9/100 | Reward: -198.0 | Epsilon: 0.050\n",
            "Episode 10/100 | Reward: -570.7 | Epsilon: 0.050\n",
            "Episode 11/100 | Reward: -219.3 | Epsilon: 0.050\n",
            "Episode 12/100 | Reward: -264.1 | Epsilon: 0.050\n",
            "Episode 13/100 | Reward: -169.6 | Epsilon: 0.050\n",
            "Episode 14/100 | Reward: -132.1 | Epsilon: 0.050\n",
            "Episode 15/100 | Reward: -500.1 | Epsilon: 0.050\n",
            "Episode 16/100 | Reward: -320.0 | Epsilon: 0.050\n",
            "Episode 17/100 | Reward: -276.0 | Epsilon: 0.050\n",
            "Episode 18/100 | Reward: -148.9 | Epsilon: 0.050\n",
            "Episode 19/100 | Reward: -353.0 | Epsilon: 0.050\n",
            "Episode 20/100 | Reward: -457.5 | Epsilon: 0.050\n",
            "Episode 21/100 | Reward: -439.5 | Epsilon: 0.050\n",
            "Episode 22/100 | Reward: -153.0 | Epsilon: 0.050\n",
            "Episode 23/100 | Reward: -240.5 | Epsilon: 0.050\n",
            "Episode 24/100 | Reward: -319.2 | Epsilon: 0.050\n",
            "Episode 25/100 | Reward: -180.2 | Epsilon: 0.050\n",
            "Episode 26/100 | Reward: -69.8 | Epsilon: 0.050\n",
            "Episode 27/100 | Reward: -195.6 | Epsilon: 0.050\n",
            "Episode 28/100 | Reward: -213.5 | Epsilon: 0.050\n",
            "Episode 29/100 | Reward: -82.0 | Epsilon: 0.050\n",
            "Episode 30/100 | Reward: -291.1 | Epsilon: 0.050\n",
            "Episode 31/100 | Reward: -11.1 | Epsilon: 0.050\n",
            "Episode 32/100 | Reward: -16.8 | Epsilon: 0.050\n",
            "Episode 33/100 | Reward: -329.1 | Epsilon: 0.050\n",
            "Episode 34/100 | Reward: -19.5 | Epsilon: 0.050\n",
            "Episode 35/100 | Reward: -149.9 | Epsilon: 0.050\n",
            "Episode 36/100 | Reward: -386.7 | Epsilon: 0.050\n",
            "Episode 37/100 | Reward: -68.1 | Epsilon: 0.050\n",
            "Episode 38/100 | Reward: -77.6 | Epsilon: 0.050\n",
            "Episode 39/100 | Reward: -119.8 | Epsilon: 0.050\n",
            "Episode 40/100 | Reward: -249.9 | Epsilon: 0.050\n",
            "Episode 41/100 | Reward: -214.0 | Epsilon: 0.050\n",
            "Episode 42/100 | Reward: -149.9 | Epsilon: 0.050\n",
            "Episode 43/100 | Reward: -172.4 | Epsilon: 0.050\n",
            "Episode 44/100 | Reward: -43.1 | Epsilon: 0.050\n",
            "Episode 45/100 | Reward: 39.6 | Epsilon: 0.050\n",
            "Episode 46/100 | Reward: -154.1 | Epsilon: 0.050\n",
            "Episode 47/100 | Reward: -274.5 | Epsilon: 0.050\n",
            "Episode 48/100 | Reward: -142.2 | Epsilon: 0.050\n",
            "Episode 49/100 | Reward: -170.8 | Epsilon: 0.050\n",
            "Episode 50/100 | Reward: -153.1 | Epsilon: 0.050\n",
            "Episode 51/100 | Reward: -92.5 | Epsilon: 0.050\n",
            "Episode 52/100 | Reward: -127.4 | Epsilon: 0.050\n",
            "Episode 53/100 | Reward: -87.9 | Epsilon: 0.050\n",
            "Episode 54/100 | Reward: -223.7 | Epsilon: 0.050\n",
            "Episode 55/100 | Reward: -90.3 | Epsilon: 0.050\n",
            "Episode 56/100 | Reward: -180.8 | Epsilon: 0.050\n",
            "Episode 57/100 | Reward: -130.4 | Epsilon: 0.050\n",
            "Episode 58/100 | Reward: -123.8 | Epsilon: 0.050\n",
            "Episode 59/100 | Reward: -162.2 | Epsilon: 0.050\n",
            "Episode 60/100 | Reward: -94.6 | Epsilon: 0.050\n",
            "Episode 61/100 | Reward: -144.2 | Epsilon: 0.050\n",
            "Episode 62/100 | Reward: -133.2 | Epsilon: 0.050\n",
            "Episode 63/100 | Reward: -191.1 | Epsilon: 0.050\n",
            "Episode 64/100 | Reward: -146.7 | Epsilon: 0.050\n",
            "Episode 65/100 | Reward: -108.2 | Epsilon: 0.050\n",
            "Episode 66/100 | Reward: -238.9 | Epsilon: 0.050\n",
            "Episode 67/100 | Reward: -138.8 | Epsilon: 0.050\n",
            "Episode 68/100 | Reward: -141.1 | Epsilon: 0.050\n",
            "Episode 69/100 | Reward: -146.9 | Epsilon: 0.050\n",
            "Episode 70/100 | Reward: -127.9 | Epsilon: 0.050\n",
            "Episode 71/100 | Reward: -11.2 | Epsilon: 0.050\n",
            "Episode 72/100 | Reward: -147.7 | Epsilon: 0.050\n",
            "Episode 73/100 | Reward: -163.2 | Epsilon: 0.050\n",
            "Episode 74/100 | Reward: -133.7 | Epsilon: 0.050\n",
            "Episode 75/100 | Reward: -146.0 | Epsilon: 0.050\n",
            "Episode 76/100 | Reward: -153.6 | Epsilon: 0.050\n",
            "Episode 77/100 | Reward: -110.5 | Epsilon: 0.050\n",
            "Episode 78/100 | Reward: -107.9 | Epsilon: 0.050\n",
            "Episode 79/100 | Reward: -150.3 | Epsilon: 0.050\n",
            "Episode 80/100 | Reward: -171.5 | Epsilon: 0.050\n",
            "Episode 81/100 | Reward: -133.6 | Epsilon: 0.050\n",
            "Episode 82/100 | Reward: -133.3 | Epsilon: 0.050\n",
            "Episode 83/100 | Reward: -154.3 | Epsilon: 0.050\n",
            "Episode 84/100 | Reward: -160.7 | Epsilon: 0.050\n",
            "Episode 85/100 | Reward: -147.2 | Epsilon: 0.050\n",
            "Episode 86/100 | Reward: -129.5 | Epsilon: 0.050\n",
            "Episode 87/100 | Reward: -155.7 | Epsilon: 0.050\n",
            "Episode 88/100 | Reward: -139.5 | Epsilon: 0.050\n",
            "Episode 89/100 | Reward: -273.1 | Epsilon: 0.050\n",
            "Episode 90/100 | Reward: -112.1 | Epsilon: 0.050\n",
            "Episode 91/100 | Reward: -151.9 | Epsilon: 0.050\n",
            "Episode 92/100 | Reward: -129.8 | Epsilon: 0.050\n",
            "Episode 93/100 | Reward: -142.4 | Epsilon: 0.050\n",
            "Episode 94/100 | Reward: -101.5 | Epsilon: 0.050\n",
            "Episode 95/100 | Reward: -130.7 | Epsilon: 0.050\n",
            "Episode 96/100 | Reward: -144.9 | Epsilon: 0.050\n",
            "Episode 97/100 | Reward: -105.5 | Epsilon: 0.050\n",
            "Episode 98/100 | Reward: -134.6 | Epsilon: 0.050\n",
            "Episode 99/100 | Reward: -98.9 | Epsilon: 0.050\n",
            "Episode 100/100 | Reward: -108.3 | Epsilon: 0.050\n"
          ]
        }
      ],
      "source": [
        "rewards = run_episodes(num_episodes=100)"
      ]
    },
    {
      "cell_type": "markdown",
      "id": "94d60b6e-3530-48d5-b1d0-7f837b5a8c1c",
      "metadata": {
        "id": "94d60b6e-3530-48d5-b1d0-7f837b5a8c1c"
      },
      "source": [
        "#### 6) Run a few episodes and show results\n",
        "**(POINTS: 1 if successful)**"
      ]
    },
    {
      "cell_type": "code",
      "execution_count": 27,
      "id": "6fa3fffd-f96d-4773-a7bc-862cbf5eb310",
      "metadata": {
        "colab": {
          "base_uri": "https://localhost:8080/",
          "height": 564
        },
        "id": "6fa3fffd-f96d-4773-a7bc-862cbf5eb310",
        "outputId": "07245b81-e4dd-4233-b052-dec32bee45da"
      },
      "outputs": [
        {
          "output_type": "display_data",
          "data": {
            "text/plain": [
              "<Figure size 1000x600 with 1 Axes>"
            ],
            "image/png": "[encoded data removed]"
          },
          "metadata": {}
        }
      ],
      "source": [
        "import matplotlib.pyplot as plt\n",
        "\n",
        "def moving_average(data, window_size=10):\n",
        "    return np.convolve(data, np.ones(window_size)/window_size, mode='valid')\n",
        "\n",
        "plt.figure(figsize=(10,6))\n",
        "plt.plot(rewards, color='lightgray', label='Raw Reward')\n",
        "plt.plot(moving_average(rewards, 10), color='blue', linewidth=2, label='Moving Average (10)')\n",
        "plt.xlabel('Episode')\n",
        "plt.ylabel('Total Reward')\n",
        "plt.title('LunarLander-v3 — Smoothed Training Curve')\n",
        "plt.legend()\n",
        "plt.grid(True)\n",
        "plt.show()"
      ]
    }
  ],
  "metadata": {
    "kernelspec": {
      "display_name": "Python 3 (ipykernel)",
      "language": "python",
      "name": "python3"
    },
    "language_info": {
      "codemirror_mode": {
        "name": "ipython",
        "version": 3
      },
      "file_extension": ".py",
      "mimetype": "text/x-python",
      "name": "python",
      "nbconvert_exporter": "python",
      "pygments_lexer": "ipython3",
      "version": "3.12.9"
    },
    "colab": {
      "provenance": []
    }
  },
  "nbformat": 4,
  "nbformat_minor": 5
}