{
  "cells": [
    {
      "cell_type": "markdown",
      "id": "d2ba6549-8b15-4f95-9615-549dd5fa2f7c",
      "metadata": {
        "id": "d2ba6549-8b15-4f95-9615-549dd5fa2f7c"
      },
      "source": [
        "### Lab: Q-Learning to Solve the Cliff Walk Problem\n",
        "\n",
        "### University of Virginia\n",
        "### Reinforcement Learning\n",
        "#### Last updated: May 26, 2025\n",
        "\n",
        "---"
      ]
    },
    {
      "cell_type": "markdown",
      "id": "2afeab41-bd5f-40e8-ad2f-e8999f13ed45",
      "metadata": {
        "id": "2afeab41-bd5f-40e8-ad2f-e8999f13ed45"
      },
      "source": [
        "#### Instructions:\n",
        "\n",
        "In Sutton & Barto (Section 6.5), the Cliff Walking problem is presented. You will apply Q-learning to teach an agent to solve it.  \n",
        "\n",
        "Consider the grid below, where an agent begins in starting state S and wishes to reach goal state G by walking on a path and keeping off The Cliff (the gray region).  At each time step, the agent can potentially take one step left, right, up, or down. There is no discounting.  It is not possible for the agent to move off the grid. If the agent visits The Cliff, it incurs reward -100 and is immediately sent back to the start. The reward is -1 on all transitions apart from The Cliff. This incentivizes the agent to reach G as quickly as possible.\n",
        "\n",
        "**Note**: Do not use libraries from `networkx`, `gym`, `gymnasium` when solving this problem.\n",
        "\n",
        "---"
      ]
    },
    {
      "cell_type": "markdown",
      "id": "4266cda1-8a73-4761-a843-676543a67c0d",
      "metadata": {
        "id": "4266cda1-8a73-4761-a843-676543a67c0d"
      },
      "source": [
        "<img src=\"https://github.com/jackburke12/applied_reinforcement_learning/blob/main/04_q_learning/cliff_walk.png?raw=1\">  "
      ]
    },
    {
      "cell_type": "markdown",
      "id": "7c322b08-1720-43e0-a3b0-0788fc33b6a7",
      "metadata": {
        "id": "7c322b08-1720-43e0-a3b0-0788fc33b6a7"
      },
      "source": [
        "#### TOTAL POINTS: 12\n",
        "\n",
        "---"
      ]
    },
    {
      "cell_type": "markdown",
      "id": "7a304cd5-72e7-4f53-95d4-1cb9fcfb1d1f",
      "metadata": {
        "id": "7a304cd5-72e7-4f53-95d4-1cb9fcfb1d1f"
      },
      "source": [
        "#### 1) Clearly explain how you will set up the state space and action space.\n",
        "**(POINTS: 2)**"
      ]
    },
    {
      "cell_type": "markdown",
      "id": "34e536f8-9cc1-4295-8283-3d9528ffb8f1",
      "metadata": {
        "id": "34e536f8-9cc1-4295-8283-3d9528ffb8f1"
      },
      "source": [
        "Because the problem uses a grid, each state can be easily defined as a tuple with grid coordinates (row, column), where the row and column numbers are positive integers. The start state will have position (3,0) and the terminal state will have position (3, 11). The boundary states, which represent the cliff, will range from (3,1) to (3,10). Overall, there are 48 possible states.\n",
        "\n",
        "The action space consists of the four directions the agent can move, represented by tuples that can be added to the state to get the resulting state. Thus the \"up\" action is represented by (-1,0), so the row moves up by one and the column stays the same. Taken from the starting position, this action would result in state (2,0). The down action is (1,0), left is (0, -1), and right is (0,1).\n",
        "\n",
        " When the agent is at a boundary state, it cannot take an action that would take it off of the grid, but the action is still available - it will just have no effect.\n"
      ]
    },
    {
      "cell_type": "markdown",
      "id": "86d3e91d-ecb5-4c27-a703-4bd28d307800",
      "metadata": {
        "id": "86d3e91d-ecb5-4c27-a703-4bd28d307800"
      },
      "source": [
        "#### 2) Write a Q-learning algorithm that helps the agent learn a policy to reach the goal  \n",
        "**(POINTS: 8)**.\n",
        "\n",
        "Use $\\epsilon$-greedy action selection with $\\epsilon=0.1$.  \n",
        "You can decide the other parameters as you wish.  "
      ]
    },
    {
      "cell_type": "code",
      "execution_count": 38,
      "id": "09f89e37-d060-48ec-b1a6-809eba649178",
      "metadata": {
        "tags": [],
        "colab": {
          "base_uri": "https://localhost:8080/"
        },
        "id": "09f89e37-d060-48ec-b1a6-809eba649178",
        "outputId": "8b68f101-e541-435f-c0fa-1fae2852eb96"
      },
      "outputs": [
        {
          "output_type": "stream",
          "name": "stdout",
          "text": [
            "Episode 100, Total Reward: -13\n",
            "Episode 200, Total Reward: -13\n",
            "Episode 300, Total Reward: -19\n",
            "Episode 400, Total Reward: -15\n",
            "Episode 500, Total Reward: -13\n",
            "\n",
            "Learned greedy policy (0=UP, 1=RIGHT, 2=DOWN, 3=LEFT):\n",
            "[[0 1 0 1 1 0 1 1 0 1 1 2]\n",
            " [0 1 1 1 1 2 1 1 1 1 1 2]\n",
            " [1 1 1 1 1 1 1 1 1 1 1 2]\n",
            " [0 0 0 0 0 0 0 0 0 0 0 0]]\n"
          ]
        }
      ],
      "source": [
        "import numpy as np\n",
        "import random\n",
        "\n",
        "n_rows = 4\n",
        "n_cols = 12\n",
        "\n",
        "start = (3,0)\n",
        "terminal = (3,11)\n",
        "cliff = [(3,i) for i in range(1,11)]\n",
        "\n",
        "actions = [(-1,0), (0,1), (1,0), (0,-1)]\n",
        "n_actions = len(actions)\n",
        "\n",
        "#Gets the index of the state in the lookup table\n",
        "def get_state(row, col):\n",
        "  return row * n_cols + col\n",
        "\n",
        "def epsilon_greedy(Q, state, epsilon=0.1):\n",
        "    if random.random() < epsilon:\n",
        "        return random.randint(0, n_actions - 1)\n",
        "    else:\n",
        "        return np.argmax(Q[state])\n",
        "\n",
        "def step(state, action):\n",
        "    row, col = divmod(state, n_cols)\n",
        "    dr, dc = actions[action]\n",
        "    new_row, new_col = row + dr, col + dc\n",
        "\n",
        "    new_row = min(max(new_row, 0), n_rows - 1)\n",
        "    new_col = min(max(new_col, 0), n_cols - 1)\n",
        "    next_state = get_state(new_row, new_col)\n",
        "\n",
        "    # Default: normal move\n",
        "    reward = -1\n",
        "    completed = False\n",
        "    final_pos = (new_row, new_col)\n",
        "\n",
        "    # Cliff check\n",
        "    if (new_row, new_col) in cliff:\n",
        "        reward = -100\n",
        "        next_state = get_state(*start)  # teleport back for Q-learning\n",
        "        completed = True                # end episode for plotting clarity\n",
        "\n",
        "    # Goal check\n",
        "    elif (new_row, new_col) == terminal:\n",
        "        reward = -1\n",
        "        completed = True\n",
        "\n",
        "    return next_state, reward, completed, final_pos\n",
        "\n",
        "alpha = 0.5\n",
        "gamma = 1.0\n",
        "epsilon = 0.1\n",
        "episodes = 500\n",
        "\n",
        "Q = np.zeros((n_rows * n_cols, n_actions))\n",
        "\n",
        "final_states = []\n",
        "\n",
        "for episode in range(episodes):\n",
        "  state = get_state(*start)\n",
        "  completed = False\n",
        "  total_reward = 0\n",
        "\n",
        "  while not completed:\n",
        "    action = epsilon_greedy(Q, state, epsilon)\n",
        "    next_state, reward, completed, final_pos = step(state, action)\n",
        "\n",
        "    Q[state, action] += alpha * (reward + gamma * np.max(Q[next_state]) - Q[state, action])\n",
        "\n",
        "    state = next_state\n",
        "    total_reward += reward\n",
        "\n",
        "  final_states.append(final_pos[1])\n",
        "\n",
        "  if (episode + 1) % 100 == 0:\n",
        "    print(f\"Episode {episode + 1}, Total Reward: {total_reward}\")\n",
        "\n",
        "# Derive greedy policy\n",
        "policy = np.array([np.argmax(Q[s]) for s in range(n_rows * n_cols)]).reshape(n_rows, n_cols)\n",
        "\n",
        "print(\"\\nLearned greedy policy (0=UP, 1=RIGHT, 2=DOWN, 3=LEFT):\")\n",
        "print(policy)\n"
      ]
    },
    {
      "cell_type": "markdown",
      "id": "767a4d4a-e3aa-4a24-9e5d-a240fc62cb17",
      "metadata": {
        "id": "767a4d4a-e3aa-4a24-9e5d-a240fc62cb17"
      },
      "source": [
        "**Note to grader for partial credit:**  \n",
        "Student answers in parts 3-5 should help understand if the algorithm is implemented correctly.  \n"
      ]
    },
    {
      "cell_type": "code",
      "execution_count": null,
      "id": "2790570e-aa87-40b2-9834-6b1809d22896",
      "metadata": {
        "id": "2790570e-aa87-40b2-9834-6b1809d22896"
      },
      "outputs": [],
      "source": []
    },
    {
      "cell_type": "markdown",
      "id": "51e96184-aaed-4ae4-a60b-805c5b9cd3b9",
      "metadata": {
        "id": "51e96184-aaed-4ae4-a60b-805c5b9cd3b9"
      },
      "source": [
        "#### 3) After training the policy, print the row from the Q-table representing the starting state  "
      ]
    },
    {
      "cell_type": "code",
      "execution_count": 36,
      "id": "118436aa-0c5f-48c1-b591-4db800347b13",
      "metadata": {
        "colab": {
          "base_uri": "https://localhost:8080/"
        },
        "id": "118436aa-0c5f-48c1-b591-4db800347b13",
        "outputId": "1c972129-0e3c-4a05-a30a-0050cd36eb94"
      },
      "outputs": [
        {
          "output_type": "stream",
          "name": "stdout",
          "text": [
            "Q[start]: [ -13.         -112.99801864  -13.99953108  -13.99928398]\n",
            "   UP: -13.000\n",
            "RIGHT: -112.998\n",
            " DOWN: -14.000\n",
            " LEFT: -13.999\n"
          ]
        }
      ],
      "source": [
        "# ---- After training loop ----\n",
        "start_state = get_state(*start)\n",
        "\n",
        "# Raw Q-row for the starting state (length = 4 actions)\n",
        "print(\"Q[start]:\", Q[start_state])\n",
        "\n",
        "action_names = [\"UP\", \"RIGHT\", \"DOWN\", \"LEFT\"]\n",
        "for a, q in enumerate(Q[start_state]):\n",
        "    print(f\"{action_names[a]:>5}: {q: .3f}\")\n"
      ]
    },
    {
      "cell_type": "markdown",
      "source": [
        "This makes sense - the reward for going right from the starting state, which would take the agent over the cliff, is very negative. The highest reward is up, which is the desired direction."
      ],
      "metadata": {
        "id": "Q7c4EiJPkGIH"
      },
      "id": "Q7c4EiJPkGIH"
    },
    {
      "cell_type": "markdown",
      "id": "393287b5-68ac-4d41-989c-aceab3258b64",
      "metadata": {
        "id": "393287b5-68ac-4d41-989c-aceab3258b64"
      },
      "source": [
        "#### 4) Based on training results, create a plot that shows final state of each episode on the y-axis, and the episode number on the x-axis"
      ]
    },
    {
      "cell_type": "code",
      "execution_count": 39,
      "id": "af571316-3ec4-437b-ab46-174323417c6b",
      "metadata": {
        "colab": {
          "base_uri": "https://localhost:8080/",
          "height": 410
        },
        "id": "af571316-3ec4-437b-ab46-174323417c6b",
        "outputId": "a93d7013-1937-409c-da23-b3676785e406"
      },
      "outputs": [
        {
          "output_type": "display_data",
          "data": {
            "text/plain": [
              "<Figure size 1000x400 with 1 Axes>"
            ],
            "image/png": "[encoded data removed]"
          },
          "metadata": {}
        }
      ],
      "source": [
        "import matplotlib.pyplot as plt\n",
        "\n",
        "plt.figure(figsize=(10, 4))\n",
        "plt.plot(range(episodes), final_states, marker='.', linestyle='none')\n",
        "plt.xlabel(\"Episode\")\n",
        "plt.ylabel(\"Final column reached\")\n",
        "plt.title(\"Episode vs Final Column (goal or cliff fall)\")\n",
        "plt.show()"
      ]
    },
    {
      "cell_type": "markdown",
      "id": "b2f5f2af-00cc-4010-8481-54b399d794c7",
      "metadata": {
        "tags": [],
        "id": "b2f5f2af-00cc-4010-8481-54b399d794c7"
      },
      "source": [
        "#### 5) Given the learned policy, run one episode\n",
        "\n",
        "Show evidence that the agent has learned how to successfully complete the Cliff walk"
      ]
    },
    {
      "cell_type": "code",
      "execution_count": null,
      "id": "5513b617-9f9f-484f-96ca-cf55f3d922a4",
      "metadata": {
        "tags": [],
        "id": "5513b617-9f9f-484f-96ca-cf55f3d922a4"
      },
      "outputs": [],
      "source": []
    },
    {
      "cell_type": "markdown",
      "id": "c67d9ccd-f5f5-4fa4-89b7-160515f13963",
      "metadata": {
        "id": "c67d9ccd-f5f5-4fa4-89b7-160515f13963"
      },
      "source": [
        "#### 6) Explain your results. Do they make sense?\n",
        "**(POINTS: 2)**"
      ]
    },
    {
      "cell_type": "markdown",
      "id": "ee75f999-5002-4055-88d4-3d2eb67bad50",
      "metadata": {
        "id": "ee75f999-5002-4055-88d4-3d2eb67bad50"
      },
      "source": [
        "**Note to grader for partial credit:** Grade based on the reasoning."
      ]
    },
    {
      "cell_type": "markdown",
      "id": "975fe720-5c2a-4b8f-b5de-ca4a9f161feb",
      "metadata": {
        "id": "975fe720-5c2a-4b8f-b5de-ca4a9f161feb"
      },
      "source": []
    }
  ],
  "metadata": {
    "kernelspec": {
      "display_name": "Python 3 (ipykernel)",
      "language": "python",
      "name": "python3"
    },
    "language_info": {
      "codemirror_mode": {
        "name": "ipython",
        "version": 3
      },
      "file_extension": ".py",
      "mimetype": "text/x-python",
      "name": "python",
      "nbconvert_exporter": "python",
      "pygments_lexer": "ipython3",
      "version": "3.12.9"
    },
    "colab": {
      "provenance": []
    }
  },
  "nbformat": 4,
  "nbformat_minor": 5
}