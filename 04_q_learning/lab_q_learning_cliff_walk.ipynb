{
  "cells": [
    {
      "cell_type": "markdown",
      "id": "d2ba6549-8b15-4f95-9615-549dd5fa2f7c",
      "metadata": {
        "id": "d2ba6549-8b15-4f95-9615-549dd5fa2f7c"
      },
      "source": [
        "### Lab: Q-Learning to Solve the Cliff Walk Problem\n",
        "\n",
        "### University of Virginia\n",
        "### Reinforcement Learning\n",
        "#### Last updated: May 26, 2025\n",
        "\n",
        "---\n",
        "\n",
        "Jack Burke\n",
        "jpb2uj"
      ]
    },
    {
      "cell_type": "markdown",
      "id": "2afeab41-bd5f-40e8-ad2f-e8999f13ed45",
      "metadata": {
        "id": "2afeab41-bd5f-40e8-ad2f-e8999f13ed45"
      },
      "source": [
        "#### Instructions:\n",
        "\n",
        "In Sutton & Barto (Section 6.5), the Cliff Walking problem is presented. You will apply Q-learning to teach an agent to solve it.  \n",
        "\n",
        "Consider the grid below, where an agent begins in starting state S and wishes to reach goal state G by walking on a path and keeping off The Cliff (the gray region).  At each time step, the agent can potentially take one step left, right, up, or down. There is no discounting.  It is not possible for the agent to move off the grid. If the agent visits The Cliff, it incurs reward -100 and is immediately sent back to the start. The reward is -1 on all transitions apart from The Cliff. This incentivizes the agent to reach G as quickly as possible.\n",
        "\n",
        "**Note**: Do not use libraries from `networkx`, `gym`, `gymnasium` when solving this problem.\n",
        "\n",
        "---"
      ]
    },
    {
      "cell_type": "markdown",
      "id": "4266cda1-8a73-4761-a843-676543a67c0d",
      "metadata": {
        "id": "4266cda1-8a73-4761-a843-676543a67c0d"
      },
      "source": [
        "<img src=\"https://github.com/jackburke12/applied_reinforcement_learning/blob/main/04_q_learning/cliff_walk.png?raw=1\">  "
      ]
    },
    {
      "cell_type": "markdown",
      "id": "7c322b08-1720-43e0-a3b0-0788fc33b6a7",
      "metadata": {
        "id": "7c322b08-1720-43e0-a3b0-0788fc33b6a7"
      },
      "source": [
        "#### TOTAL POINTS: 12\n",
        "\n",
        "---"
      ]
    },
    {
      "cell_type": "markdown",
      "id": "7a304cd5-72e7-4f53-95d4-1cb9fcfb1d1f",
      "metadata": {
        "id": "7a304cd5-72e7-4f53-95d4-1cb9fcfb1d1f"
      },
      "source": [
        "#### 1) Clearly explain how you will set up the state space and action space.\n",
        "**(POINTS: 2)**"
      ]
    },
    {
      "cell_type": "markdown",
      "id": "34e536f8-9cc1-4295-8283-3d9528ffb8f1",
      "metadata": {
        "id": "34e536f8-9cc1-4295-8283-3d9528ffb8f1"
      },
      "source": [
        "Because the problem uses a grid, each state can be easily defined as a tuple with grid coordinates (row, column), where the row and column numbers are positive integers. The start state will have position (3,0) and the terminal state will have position (3, 11). The boundary states, which represent the cliff, will range from (3,1) to (3,10). Overall, there are 48 possible states.\n",
        "\n",
        "The action space consists of the four directions the agent can move, represented by tuples that can be added to the state to get the resulting state. Thus the \"up\" action is represented by (-1,0), so the row moves up by one and the column stays the same. Taken from the starting position, this action would result in state (2,0). The down action is (1,0), left is (0, -1), and right is (0,1).\n",
        "\n",
        " When the agent is at a boundary state, it cannot take an action that would take it off of the grid, but the action is still available - it will just have no effect.\n"
      ]
    },
    {
      "cell_type": "markdown",
      "id": "86d3e91d-ecb5-4c27-a703-4bd28d307800",
      "metadata": {
        "id": "86d3e91d-ecb5-4c27-a703-4bd28d307800"
      },
      "source": [
        "#### 2) Write a Q-learning algorithm that helps the agent learn a policy to reach the goal  \n",
        "**(POINTS: 8)**.\n",
        "\n",
        "Use $\\epsilon$-greedy action selection with $\\epsilon=0.1$.  \n",
        "You can decide the other parameters as you wish.  "
      ]
    },
    {
      "cell_type": "code",
      "execution_count": 49,
      "id": "09f89e37-d060-48ec-b1a6-809eba649178",
      "metadata": {
        "tags": [],
        "colab": {
          "base_uri": "https://localhost:8080/"
        },
        "id": "09f89e37-d060-48ec-b1a6-809eba649178",
        "outputId": "08c34501-694b-4536-bfdb-381155d8f68a"
      },
      "outputs": [
        {
          "output_type": "stream",
          "name": "stdout",
          "text": [
            "\n",
            "Learned greedy policy (0=UP, 1=RIGHT, 2=DOWN, 3=LEFT):\n",
            "[[2 1 2 0 1 2 1 1 1 1 2 2]\n",
            " [1 1 1 1 1 2 2 1 1 2 2 2]\n",
            " [1 1 1 1 1 1 1 1 1 1 1 2]\n",
            " [0 0 0 0 0 0 0 0 0 0 0 0]]\n"
          ]
        }
      ],
      "source": [
        "import numpy as np\n",
        "import random\n",
        "\n",
        "n_rows = 4\n",
        "n_cols = 12\n",
        "\n",
        "start = (3,0)\n",
        "terminal = (3,11)\n",
        "cliff = [(3,i) for i in range(1,11)]\n",
        "\n",
        "actions = [(-1,0), (0,1), (1,0), (0,-1)]\n",
        "n_actions = len(actions)\n",
        "\n",
        "#Gets the index of the state in the lookup table\n",
        "def get_state(row, col):\n",
        "  return row * n_cols + col\n",
        "\n",
        "#Epsilon-greedy policy. One in ten actions takes a random action, otherwise the greedy action is taken.\n",
        "def epsilon_greedy(Q, state, epsilon=0.1):\n",
        "    if random.random() < epsilon:\n",
        "        return random.randint(0, n_actions - 1)\n",
        "    else:\n",
        "        return np.argmax(Q[state])\n",
        "\n",
        "def step(state, action):\n",
        "    #Retrieve the row and column from the state index\n",
        "    row, col = divmod(state, n_cols)\n",
        "    dr, dc = actions[action]\n",
        "    new_row, new_col = row + dr, col + dc\n",
        "\n",
        "    #If the action takes the agent off the board, don't do anything\n",
        "    new_row = min(max(new_row, 0), n_rows - 1)\n",
        "    new_col = min(max(new_col, 0), n_cols - 1)\n",
        "\n",
        "    #Calculate the next state\n",
        "    next_state = get_state(new_row, new_col)\n",
        "\n",
        "    # Default: normal move\n",
        "    reward = -1\n",
        "    completed = False\n",
        "    final_pos = (new_row, new_col)\n",
        "\n",
        "    # Cliff check\n",
        "    if (new_row, new_col) in cliff:\n",
        "        reward = -100\n",
        "        next_state = get_state(*start)\n",
        "        completed = True\n",
        "\n",
        "    # Goal check\n",
        "    elif (new_row, new_col) == terminal:\n",
        "        reward = -1\n",
        "        completed = True\n",
        "\n",
        "    return next_state, reward, completed, final_pos\n",
        "\n",
        "alpha = 0.1\n",
        "gamma = 1.0\n",
        "epsilon = 0.1\n",
        "episodes = 1000\n",
        "\n",
        "#Initialize the q table\n",
        "Q = np.zeros((n_rows * n_cols, n_actions))\n",
        "\n",
        "final_states = []\n",
        "\n",
        "for episode in range(episodes):\n",
        "  state = get_state(*start)\n",
        "  completed = False\n",
        "  total_reward = 0\n",
        "\n",
        "  while not completed:\n",
        "    action = epsilon_greedy(Q, state, epsilon)\n",
        "    next_state, reward, completed, final_pos = step(state, action)\n",
        "\n",
        "    Q[state, action] += alpha * (reward + gamma * np.max(Q[next_state]) - Q[state, action])\n",
        "\n",
        "    state = next_state\n",
        "    total_reward += reward\n",
        "\n",
        "  final_states.append(final_pos[1])\n",
        "\n",
        "#Policy table showing learned best action from each state\n",
        "policy = np.array([np.argmax(Q[s]) for s in range(n_rows * n_cols)]).reshape(n_rows, n_cols)\n",
        "\n",
        "print(\"\\nLearned greedy policy (0=UP, 1=RIGHT, 2=DOWN, 3=LEFT):\")\n",
        "print(policy)\n"
      ]
    },
    {
      "cell_type": "markdown",
      "id": "767a4d4a-e3aa-4a24-9e5d-a240fc62cb17",
      "metadata": {
        "id": "767a4d4a-e3aa-4a24-9e5d-a240fc62cb17"
      },
      "source": [
        "**Note to grader for partial credit:**  \n",
        "Student answers in parts 3-5 should help understand if the algorithm is implemented correctly.  \n"
      ]
    },
    {
      "cell_type": "markdown",
      "id": "51e96184-aaed-4ae4-a60b-805c5b9cd3b9",
      "metadata": {
        "id": "51e96184-aaed-4ae4-a60b-805c5b9cd3b9"
      },
      "source": [
        "#### 3) After training the policy, print the row from the Q-table representing the starting state  "
      ]
    },
    {
      "cell_type": "code",
      "execution_count": 50,
      "id": "118436aa-0c5f-48c1-b591-4db800347b13",
      "metadata": {
        "colab": {
          "base_uri": "https://localhost:8080/"
        },
        "id": "118436aa-0c5f-48c1-b591-4db800347b13",
        "outputId": "8a106233-0354-4f20-e73f-3cb61dcd2a36"
      },
      "outputs": [
        {
          "output_type": "stream",
          "name": "stdout",
          "text": [
            "Q[start]: [ -13.         -111.23693664  -13.807629    -13.91242976]\n",
            "   UP: -13.000\n",
            "RIGHT: -111.237\n",
            " DOWN: -13.808\n",
            " LEFT: -13.912\n"
          ]
        }
      ],
      "source": [
        "start_state = get_state(*start)\n",
        "\n",
        "print(\"Q[start]:\", Q[start_state])\n",
        "\n",
        "action_names = [\"UP\", \"RIGHT\", \"DOWN\", \"LEFT\"]\n",
        "for a, q in enumerate(Q[start_state]):\n",
        "    print(f\"{action_names[a]:>5}: {q: .3f}\")\n"
      ]
    },
    {
      "cell_type": "markdown",
      "source": [
        "This makes sense - the reward for going right from the starting state, which would take the agent over the cliff, is very negative. The highest reward is up, which is the desired direction. Though going down and going left don't actually change the state, they sometimes cause the agent to choose going right on the next action due to the epsilon-greedy policy - which makes their estimated Q values more negative than going up."
      ],
      "metadata": {
        "id": "Q7c4EiJPkGIH"
      },
      "id": "Q7c4EiJPkGIH"
    },
    {
      "cell_type": "markdown",
      "id": "393287b5-68ac-4d41-989c-aceab3258b64",
      "metadata": {
        "id": "393287b5-68ac-4d41-989c-aceab3258b64"
      },
      "source": [
        "#### 4) Based on training results, create a plot that shows final state of each episode on the y-axis, and the episode number on the x-axis"
      ]
    },
    {
      "cell_type": "code",
      "execution_count": 51,
      "id": "af571316-3ec4-437b-ab46-174323417c6b",
      "metadata": {
        "colab": {
          "base_uri": "https://localhost:8080/",
          "height": 410
        },
        "id": "af571316-3ec4-437b-ab46-174323417c6b",
        "outputId": "43348a05-8451-4b8b-f609-3dcb6475033a"
      },
      "outputs": [
        {
          "output_type": "display_data",
          "data": {
            "text/plain": [
              "<Figure size 1000x400 with 1 Axes>"
            ],
            "image/png": "[encoded data removed]"
          },
          "metadata": {}
        }
      ],
      "source": [
        "import matplotlib.pyplot as plt\n",
        "\n",
        "plt.figure(figsize=(10, 4))\n",
        "plt.plot(range(episodes), final_states, marker='.', linestyle='none')\n",
        "plt.xlabel(\"Episode\")\n",
        "plt.ylabel(\"Final column reached\")\n",
        "plt.title(\"Episode vs Final Column (goal or cliff fall)\")\n",
        "plt.show()"
      ]
    },
    {
      "cell_type": "markdown",
      "id": "b2f5f2af-00cc-4010-8481-54b399d794c7",
      "metadata": {
        "tags": [],
        "id": "b2f5f2af-00cc-4010-8481-54b399d794c7"
      },
      "source": [
        "#### 5) Given the learned policy, run one episode\n",
        "\n",
        "Show evidence that the agent has learned how to successfully complete the Cliff walk"
      ]
    },
    {
      "cell_type": "code",
      "source": [
        "action_names = [\"UP\", \"RIGHT\", \"DOWN\", \"LEFT\"]\n",
        "\n",
        "state = get_state(*start)\n",
        "path = [divmod(state, n_cols)]\n",
        "actions_taken = []\n",
        "total_reward = 0\n",
        "completed = False\n",
        "\n",
        "while not completed:\n",
        "    action = np.argmax(Q[state])\n",
        "    next_state, reward, completed, final_pos = step(state, action)\n",
        "    total_reward += reward\n",
        "\n",
        "    actions_taken.append(action_names[action])\n",
        "    path.append(final_pos)\n",
        "    state = next_state\n",
        "\n",
        "print(f\"Total reward: {total_reward}\")\n",
        "print(f\"Steps taken: {len(actions_taken)}\")\n",
        "\n",
        "for i, ((r, c), act) in enumerate(zip(path[:-1], actions_taken)):\n",
        "    print(f\"Step {i:2d}: State=({r},{c}), Action={act}, Next={path[i+1]}\")\n",
        "\n",
        "grid = np.full((n_rows, n_cols), \" \")\n",
        "for (r, c) in cliff:\n",
        "    grid[r, c] = \"X\"\n",
        "grid[start] = \"S\"\n",
        "grid[terminal] = \"G\"\n",
        "for (r, c) in path:\n",
        "    if grid[r, c] == \" \":\n",
        "        grid[r, c] = \"·\"\n",
        "\n",
        "print(\"\\nLearned path:\")\n",
        "for r in range(n_rows):\n",
        "    print(\"\".join(grid[r]))\n"
      ],
      "metadata": {
        "colab": {
          "base_uri": "https://localhost:8080/"
        },
        "id": "ttaLeQ9korn2",
        "outputId": "450f8d50-5ef2-4f3e-fcd4-b267946e3f96"
      },
      "id": "ttaLeQ9korn2",
      "execution_count": 58,
      "outputs": [
        {
          "output_type": "stream",
          "name": "stdout",
          "text": [
            "Total reward: -13\n",
            "Steps taken: 13\n",
            "Step  0: State=(3,0), Action=UP, Next=(2, 0)\n",
            "Step  1: State=(2,0), Action=RIGHT, Next=(2, 1)\n",
            "Step  2: State=(2,1), Action=RIGHT, Next=(2, 2)\n",
            "Step  3: State=(2,2), Action=RIGHT, Next=(2, 3)\n",
            "Step  4: State=(2,3), Action=RIGHT, Next=(2, 4)\n",
            "Step  5: State=(2,4), Action=RIGHT, Next=(2, 5)\n",
            "Step  6: State=(2,5), Action=RIGHT, Next=(2, 6)\n",
            "Step  7: State=(2,6), Action=RIGHT, Next=(2, 7)\n",
            "Step  8: State=(2,7), Action=RIGHT, Next=(2, 8)\n",
            "Step  9: State=(2,8), Action=RIGHT, Next=(2, 9)\n",
            "Step 10: State=(2,9), Action=RIGHT, Next=(2, 10)\n",
            "Step 11: State=(2,10), Action=RIGHT, Next=(2, 11)\n",
            "Step 12: State=(2,11), Action=DOWN, Next=(3, 11)\n",
            "\n",
            "Learned path:\n",
            "            \n",
            "            \n",
            "············\n",
            "SXXXXXXXXXXG\n"
          ]
        }
      ]
    },
    {
      "cell_type": "markdown",
      "id": "c67d9ccd-f5f5-4fa4-89b7-160515f13963",
      "metadata": {
        "id": "c67d9ccd-f5f5-4fa4-89b7-160515f13963"
      },
      "source": [
        "#### 6) Explain your results. Do they make sense?\n",
        "**(POINTS: 2)**"
      ]
    },
    {
      "cell_type": "markdown",
      "source": [
        "Yes, they make sense. We can see from the learned policy that the highest-value action from the start is up, and the highest value action from every state that is one row above the cliff is right. So we would expect the agent to move along the optimal path given our policy.\n",
        "\n",
        "We see that running one episode and taking the greedy action causes the agent to proceed along the optimal path - aside from the start, it always moves to the right until it is one cell above the goal, then it moves down.\n"
      ],
      "metadata": {
        "id": "mtLbRblGpHCM"
      },
      "id": "mtLbRblGpHCM"
    },
    {
      "cell_type": "markdown",
      "id": "ee75f999-5002-4055-88d4-3d2eb67bad50",
      "metadata": {
        "id": "ee75f999-5002-4055-88d4-3d2eb67bad50"
      },
      "source": [
        "**Note to grader for partial credit:** Grade based on the reasoning."
      ]
    }
  ],
  "metadata": {
    "kernelspec": {
      "display_name": "Python 3 (ipykernel)",
      "language": "python",
      "name": "python3"
    },
    "language_info": {
      "codemirror_mode": {
        "name": "ipython",
        "version": 3
      },
      "file_extension": ".py",
      "mimetype": "text/x-python",
      "name": "python",
      "nbconvert_exporter": "python",
      "pygments_lexer": "ipython3",
      "version": "3.12.9"
    },
    "colab": {
      "provenance": [],
      "toc_visible": true
    }
  },
  "nbformat": 4,
  "nbformat_minor": 5
}