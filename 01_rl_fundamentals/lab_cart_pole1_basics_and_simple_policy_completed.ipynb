{
  "cells": [
    {
      "cell_type": "markdown",
      "metadata": {
        "id": "-GBod1nv65dN"
      },
      "source": [
        "## Lab: Cart Pole using OpenAI gym\n",
        "## RL Basics and Simple Policy\n",
        "\n",
        "### University of Virginia\n",
        "### Reinforcement Learning\n",
        "#### Last updated: May 26, 2025\n",
        "\n",
        "---\n"
      ]
    },
    {
      "cell_type": "markdown",
      "metadata": {
        "id": "sSQ7PneAB_XJ"
      },
      "source": [
        "#### Instructions:  \n",
        "\n",
        "Carefully read the notes below and run the provided code. Answer each question clearly and show all results.\n",
        "\n",
        "#### TOTAL POINTS: 10\n",
        "\n",
        "---"
      ]
    },
    {
      "cell_type": "markdown",
      "metadata": {
        "id": "krpOsEbE_aTj"
      },
      "source": [
        "### Agent and Environment\n",
        "\n",
        "It is essential for the agent to have a way to get the next state and reward from the environment.\n",
        "\n",
        "Sometimes it is possible for the agent to interact with environment in real life, but often this is expensive / dangerous / impossible.\n",
        "\n",
        "We use models and simulators in this latter case.\n",
        "\n",
        "For this reason, the Gym package is useful in RL\n",
        "\n",
        "**Note**: Going forward, the fork [gymnasium](https://gymnasium.farama.org/) will maintain OpenAI gym.  \n",
        "We will be using `gymnasium` but will still refer to the environment as `gym` when it doesn't cause confusion.\n",
        "\n",
        "---"
      ]
    },
    {
      "cell_type": "markdown",
      "metadata": {
        "id": "fVwAKKjUBxFT"
      },
      "source": [
        "### Introduction to Gym\n",
        "\n",
        "Gym is a toolkit for developing and comparing RL algorithms.\n",
        "\n",
        "It comes with many pre-built environments which have functionality to emulate physical environments.\n",
        "\n",
        "Users can build their own custom environments. See [here](https://towardsdatascience.com/creating-a-custom-openai-gym-environment-for-stock-trading-be532be3910e#:~:text=8%20min%20read-,Create%20custom%20gym%20environments%20from%20scratch%20%E2%80%94%20A%20stock%20market%20example,Atari%20games%20to%20experiment%20with.) for example.\n",
        "\n",
        "---"
      ]
    },
    {
      "cell_type": "markdown",
      "metadata": {
        "id": "jUTU3338AvT9"
      },
      "source": [
        "### Cart Pole Problem\n",
        "\n",
        "The **CartPole** problem has a small state space and action space, so it's popular for illustrating ideas.\n",
        "\n",
        "Pole is attached to a cart on a frictionless track.\n",
        "\n",
        "Pole starts upright\n",
        "\n",
        "**Goal** is to keep pole from falling over\n",
        "\n",
        "Control system by applying **force** -1 or +1 to cart.\n",
        "\n",
        "**Reward** of +1 for each timestep the pole remains upright\n",
        "\n",
        "**Episode** ends when pole is more than 12 degrees from vertical, or cart moves more than 2.4 units from center\n",
        "\n",
        "CartPole-v1 defines *solving* as getting average reward of 195.0 over 100 consecutive trials."
      ]
    },
    {
      "cell_type": "markdown",
      "metadata": {
        "id": "OyoCL_8lB_XK"
      },
      "source": [
        "<img src=\"https://github.com/jackburke12/applied_reinforcement_learning/blob/main/01_rl_fundamentals/cartpole.png?raw=1\" alt=\"drawing\" width=\"150\"/>"
      ]
    },
    {
      "cell_type": "markdown",
      "metadata": {
        "id": "BGiRrboBB_XK"
      },
      "source": [
        "---"
      ]
    },
    {
      "cell_type": "markdown",
      "metadata": {
        "id": "rA_dd0h6Eoap"
      },
      "source": [
        "### Setup and First Steps"
      ]
    },
    {
      "cell_type": "markdown",
      "metadata": {
        "id": "OgSNDjuzow2U"
      },
      "source": [
        "This notebook can be easily run on [Google Colab](https://colab.research.google.com/)"
      ]
    },
    {
      "cell_type": "code",
      "execution_count": 92,
      "metadata": {
        "colab": {
          "base_uri": "https://localhost:8080/"
        },
        "id": "ee6amSyRCEXI",
        "outputId": "850b0d22-53f6-4302-e8fe-2bf4ced20bca"
      },
      "outputs": [
        {
          "output_type": "stream",
          "name": "stdout",
          "text": [
            "Requirement already satisfied: gymnasium in /usr/local/lib/python3.12/dist-packages (1.2.0)\n",
            "Requirement already satisfied: numpy>=1.21.0 in /usr/local/lib/python3.12/dist-packages (from gymnasium) (2.0.2)\n",
            "Requirement already satisfied: cloudpickle>=1.2.0 in /usr/local/lib/python3.12/dist-packages (from gymnasium) (3.1.1)\n",
            "Requirement already satisfied: typing-extensions>=4.3.0 in /usr/local/lib/python3.12/dist-packages (from gymnasium) (4.15.0)\n",
            "Requirement already satisfied: farama-notifications>=0.0.1 in /usr/local/lib/python3.12/dist-packages (from gymnasium) (0.0.4)\n"
          ]
        }
      ],
      "source": [
        "! pip install gymnasium"
      ]
    },
    {
      "cell_type": "markdown",
      "metadata": {
        "id": "urwN9CGQkNVd"
      },
      "source": [
        "We can use [renderlab](https://github.com/ryanrudes/renderlab/tree/main) to visualize *results*"
      ]
    },
    {
      "cell_type": "code",
      "execution_count": 93,
      "metadata": {
        "colab": {
          "base_uri": "https://localhost:8080/"
        },
        "id": "1heW7w14hYfP",
        "outputId": "cde7c816-2245-4850-fbaf-7aaeb3a35f99"
      },
      "outputs": [
        {
          "output_type": "stream",
          "name": "stdout",
          "text": [
            "Requirement already satisfied: renderlab in /usr/local/lib/python3.12/dist-packages (0.1.20230421184216)\n",
            "Requirement already satisfied: moviepy in /usr/local/lib/python3.12/dist-packages (from renderlab) (1.0.3)\n",
            "Requirement already satisfied: gymnasium in /usr/local/lib/python3.12/dist-packages (from renderlab) (1.2.0)\n",
            "Requirement already satisfied: numpy>=1.21.0 in /usr/local/lib/python3.12/dist-packages (from gymnasium->renderlab) (2.0.2)\n",
            "Requirement already satisfied: cloudpickle>=1.2.0 in /usr/local/lib/python3.12/dist-packages (from gymnasium->renderlab) (3.1.1)\n",
            "Requirement already satisfied: typing-extensions>=4.3.0 in /usr/local/lib/python3.12/dist-packages (from gymnasium->renderlab) (4.15.0)\n",
            "Requirement already satisfied: farama-notifications>=0.0.1 in /usr/local/lib/python3.12/dist-packages (from gymnasium->renderlab) (0.0.4)\n",
            "Requirement already satisfied: decorator<5.0,>=4.0.2 in /usr/local/lib/python3.12/dist-packages (from moviepy->renderlab) (4.4.2)\n",
            "Requirement already satisfied: tqdm<5.0,>=4.11.2 in /usr/local/lib/python3.12/dist-packages (from moviepy->renderlab) (4.67.1)\n",
            "Requirement already satisfied: requests<3.0,>=2.8.1 in /usr/local/lib/python3.12/dist-packages (from moviepy->renderlab) (2.32.4)\n",
            "Requirement already satisfied: proglog<=1.0.0 in /usr/local/lib/python3.12/dist-packages (from moviepy->renderlab) (0.1.12)\n",
            "Requirement already satisfied: imageio<3.0,>=2.5 in /usr/local/lib/python3.12/dist-packages (from moviepy->renderlab) (2.37.0)\n",
            "Requirement already satisfied: imageio-ffmpeg>=0.2.0 in /usr/local/lib/python3.12/dist-packages (from moviepy->renderlab) (0.6.0)\n",
            "Requirement already satisfied: pillow>=8.3.2 in /usr/local/lib/python3.12/dist-packages (from imageio<3.0,>=2.5->moviepy->renderlab) (11.3.0)\n",
            "Requirement already satisfied: charset_normalizer<4,>=2 in /usr/local/lib/python3.12/dist-packages (from requests<3.0,>=2.8.1->moviepy->renderlab) (3.4.3)\n",
            "Requirement already satisfied: idna<4,>=2.5 in /usr/local/lib/python3.12/dist-packages (from requests<3.0,>=2.8.1->moviepy->renderlab) (3.10)\n",
            "Requirement already satisfied: urllib3<3,>=1.21.1 in /usr/local/lib/python3.12/dist-packages (from requests<3.0,>=2.8.1->moviepy->renderlab) (2.5.0)\n",
            "Requirement already satisfied: certifi>=2017.4.17 in /usr/local/lib/python3.12/dist-packages (from requests<3.0,>=2.8.1->moviepy->renderlab) (2025.8.3)\n"
          ]
        }
      ],
      "source": [
        "! pip install renderlab"
      ]
    },
    {
      "cell_type": "code",
      "execution_count": 94,
      "metadata": {
        "id": "ed_DyvHy6pbh"
      },
      "outputs": [],
      "source": [
        "import gymnasium as gym\n",
        "import renderlab as rl"
      ]
    },
    {
      "cell_type": "markdown",
      "metadata": {
        "id": "KA4JgtuL5jC9"
      },
      "source": [
        "Load the environment"
      ]
    },
    {
      "cell_type": "code",
      "execution_count": 95,
      "metadata": {
        "colab": {
          "base_uri": "https://localhost:8080/"
        },
        "id": "UcGLRi6F6vcQ",
        "outputId": "96eff074-b95f-4ad6-8f9b-0aa8ac7f05e3"
      },
      "outputs": [
        {
          "output_type": "stream",
          "name": "stdout",
          "text": [
            "(array([0.04225422, 0.02126478, 0.02520455, 0.00700802], dtype=float32), {})\n"
          ]
        }
      ],
      "source": [
        "env = gym.make(\"CartPole-v1\", render_mode = \"rgb_array\")\n",
        "\n",
        "state = env.reset(seed=314)\n",
        "print(state)"
      ]
    },
    {
      "cell_type": "markdown",
      "metadata": {
        "id": "VtQFJsxj7aBj"
      },
      "source": [
        "Given the state, we take an action. The next state comes from the environment, which is encoded in `gym`.\n",
        "\n",
        "The first element holds components:   \n",
        "[0]: cart horizontal position (0.0 = center)  \n",
        "[1]: velocity (positive means right)  \n",
        "[2]: angle of the pole (0.0 = vertical)  \n",
        "[3]: pole's angular velocity (positive means clockwise)"
      ]
    },
    {
      "cell_type": "code",
      "execution_count": 96,
      "metadata": {
        "colab": {
          "base_uri": "https://localhost:8080/"
        },
        "id": "7A5peNKiBXsh",
        "outputId": "8e3a3083-c57e-4cdd-9672-d5523cdf737c"
      },
      "outputs": [
        {
          "output_type": "execute_result",
          "data": {
            "text/plain": [
              "4"
            ]
          },
          "metadata": {},
          "execution_count": 96
        }
      ],
      "source": [
        "# state space number of components\n",
        "env.observation_space.shape[0]"
      ]
    },
    {
      "cell_type": "markdown",
      "metadata": {
        "id": "8GkZmsIN7ky6"
      },
      "source": [
        "The action space consists of two options:\n",
        "\n",
        "[0]: move cart left   \n",
        "[1]: move cart right"
      ]
    },
    {
      "cell_type": "code",
      "execution_count": 97,
      "metadata": {
        "colab": {
          "base_uri": "https://localhost:8080/"
        },
        "id": "ySQ8EpsV7Ngr",
        "outputId": "7f143c3f-85f9-41ad-9a90-d8eef6e9aa67"
      },
      "outputs": [
        {
          "output_type": "execute_result",
          "data": {
            "text/plain": [
              "Discrete(2)"
            ]
          },
          "metadata": {},
          "execution_count": 97
        }
      ],
      "source": [
        "env.action_space"
      ]
    },
    {
      "cell_type": "markdown",
      "metadata": {
        "id": "_68lpUuVCc-_"
      },
      "source": [
        "Let's take an action, draw a sample and look at the results."
      ]
    },
    {
      "cell_type": "code",
      "execution_count": 98,
      "metadata": {
        "colab": {
          "base_uri": "https://localhost:8080/"
        },
        "id": "gKFEIHjL7n7h",
        "outputId": "c23e4770-0ca3-4686-814f-80874542ebec"
      },
      "outputs": [
        {
          "output_type": "stream",
          "name": "stdout",
          "text": [
            "state [ 0.04267951  0.21601637  0.02534471 -0.27761722]\n",
            "reward 1.0\n",
            "done False\n",
            "info {}\n"
          ]
        }
      ],
      "source": [
        "# move right\n",
        "action = 1\n",
        "\n",
        "# take a step and get next state, reward from environment\n",
        "state, reward, terminated, truncated, info = env.step(action)\n",
        "done = terminated or truncated\n",
        "\n",
        "print('state', state)\n",
        "print('reward', reward)\n",
        "print('done', done)\n",
        "print('info', info)"
      ]
    },
    {
      "cell_type": "markdown",
      "metadata": {
        "id": "QdXm61SyB_XO"
      },
      "source": [
        "**Note about DONE**  \n",
        "We need to understand if the episode is done after taking action  \n",
        "\n",
        "The API now gives more detail on this variable, which may reach `done` state for two reasons:  \n",
        "- **terminated**=True if environment terminates (eg. due to task completion, failure etc.)  \n",
        "- **truncated**=True if episode truncates due to a time limit or a reason that is not defined as part of the task MDP."
      ]
    },
    {
      "cell_type": "markdown",
      "metadata": {
        "id": "CdXO_KsfB_XO"
      },
      "source": [
        "**Run several steps by taking random actions**  "
      ]
    },
    {
      "cell_type": "code",
      "execution_count": 99,
      "metadata": {
        "colab": {
          "base_uri": "https://localhost:8080/"
        },
        "id": "IG-HlLwDB_XO",
        "outputId": "149656d2-fb01-4d62-c72d-4d1a5ef6baff"
      },
      "outputs": [
        {
          "output_type": "stream",
          "name": "stdout",
          "text": [
            "(array([ 0.04267951,  0.21601637,  0.02534471, -0.27761722], dtype=float32), 1.0, False, False, {})\n",
            "(array([0.04699984, 0.02054218, 0.01979236, 0.02295044], dtype=float32), 1.0, False, False, {})\n",
            "(array([ 0.04741069,  0.21537478,  0.02025137, -0.26342264], dtype=float32), 1.0, False, False, {})\n",
            "(array([0.05171818, 0.01996971, 0.01498292, 0.03557836], dtype=float32), 1.0, False, False, {})\n",
            "(array([ 0.05211757,  0.21487363,  0.01569449, -0.2523399 ], dtype=float32), 1.0, False, False, {})\n"
          ]
        }
      ],
      "source": [
        "state = env.reset(seed=314)\n",
        "for _ in range(5):\n",
        "    print(env.step(env.action_space.sample())) # take a random action"
      ]
    },
    {
      "cell_type": "markdown",
      "metadata": {
        "id": "BPJ5pHxPjFNl"
      },
      "source": [
        "**Run an epoch by taking random actions. Visualize the results.**  "
      ]
    },
    {
      "cell_type": "code",
      "execution_count": 100,
      "metadata": {
        "colab": {
          "base_uri": "https://localhost:8080/",
          "height": 508
        },
        "id": "6DTMm3offzGh",
        "outputId": "c38709b5-51c4-49af-a049-39938ac5ff4c"
      },
      "outputs": [
        {
          "output_type": "stream",
          "name": "stdout",
          "text": [
            "Moviepy - Building video temp-{start}.mp4.\n",
            "Moviepy - Writing video temp-{start}.mp4\n",
            "\n"
          ]
        },
        {
          "output_type": "stream",
          "name": "stderr",
          "text": []
        },
        {
          "output_type": "stream",
          "name": "stdout",
          "text": [
            "Moviepy - Done !\n",
            "Moviepy - video ready temp-{start}.mp4\n"
          ]
        },
        {
          "output_type": "display_data",
          "data": {
            "text/plain": [
              "<IPython.core.display.Video object>"
            ],
            "text/html": [
              "<video controls  >\n",
              " <source src=\"data:video/mp4;base64,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\" type=\"video/mp4\">\n",
              " Your browser does not support the video tag.\n",
              " </video>"
            ]
          },
          "metadata": {}
        }
      ],
      "source": [
        "env = rl.RenderFrame(env, \"./output\")\n",
        "\n",
        "observation, info = env.reset()\n",
        "\n",
        "while True:\n",
        "    action = env.action_space.sample()\n",
        "    observation, reward, terminated, truncated, info = env.step(action)\n",
        "\n",
        "    if terminated or truncated:\n",
        "      break\n",
        "\n",
        "env.play()"
      ]
    },
    {
      "cell_type": "markdown",
      "metadata": {
        "id": "bqxI0vej88Kh"
      },
      "source": [
        "**Reward and Episode**  \n",
        "\n",
        "For each time step that the cart keeps the pole balanced, it earns reward 1.\n",
        "\n",
        "If the pole tilts too much or if the cart moves off screen, `reward=0` and `done=True` (the episode will end).\n",
        "\n",
        "When the episode ends, a new episode may begin. The process learns cumulatively from each episode.\n",
        "\n",
        "---"
      ]
    },
    {
      "cell_type": "markdown",
      "metadata": {
        "id": "Yv5gKVde9pvQ"
      },
      "source": [
        "#### 1) Defining a function that runs a simple policy\n",
        "**(POINTS: 1)**\n",
        "\n",
        "When the pole leans left (negative angle), move left. When the pole leans right (positive angle), move right.  \n",
        "\n",
        "The function should take the state and return an action. Test that it works properly.  "
      ]
    },
    {
      "cell_type": "code",
      "execution_count": 109,
      "metadata": {
        "id": "yhUJFaaJB_XP",
        "outputId": "9b8a660b-24fc-44c5-c349-a2b6e612c804",
        "colab": {
          "base_uri": "https://localhost:8080/"
        }
      },
      "outputs": [
        {
          "output_type": "stream",
          "name": "stdout",
          "text": [
            "0.025204547\n",
            "action: 1\n",
            "0.025344707\n",
            "action: 1\n",
            "0.019792363\n",
            "action: 1\n",
            "0.008548365\n",
            "action: 1\n",
            "-0.008423278\n",
            "action: 0\n",
            "-0.031194573\n",
            "action: 0\n",
            "-0.04816528\n",
            "action: 0\n",
            "-0.059481736\n",
            "action: 0\n",
            "-0.06525563\n",
            "action: 0\n",
            "-0.065562606\n",
            "action: 0\n",
            "-0.060441557\n",
            "action: 0\n",
            "-0.049894426\n",
            "action: 0\n",
            "-0.033886462\n",
            "action: 0\n",
            "-0.012346914\n",
            "action: 0\n",
            "0.014829819\n",
            "action: 1\n",
            "0.04778246\n",
            "action: 1\n",
            "0.074974574\n",
            "action: 1\n",
            "0.09661946\n",
            "action: 1\n",
            "0.11289944\n",
            "action: 1\n",
            "0.12396349\n",
            "action: 1\n",
            "0.1299258\n",
            "action: 1\n",
            "0.1308649\n",
            "action: 1\n",
            "0.12682337\n",
            "action: 1\n",
            "0.11780769\n",
            "action: 1\n",
            "0.10378862\n",
            "action: 1\n",
            "0.08470159\n",
            "action: 1\n",
            "0.06044747\n",
            "action: 1\n",
            "0.030893669\n",
            "action: 1\n",
            "-0.0041242866\n",
            "action: 0\n",
            "-0.04480057\n",
            "action: 0\n",
            "-0.07964877\n",
            "action: 0\n",
            "-0.10892864\n",
            "action: 0\n",
            "-0.13287298\n",
            "action: 0\n",
            "-0.15168427\n",
            "action: 0\n",
            "-0.16553245\n",
            "action: 0\n",
            "-0.17455366\n",
            "action: 0\n",
            "-0.17884944\n",
            "action: 0\n",
            "-0.17848645\n",
            "action: 0\n",
            "-0.17349647\n",
            "action: 0\n",
            "-0.1638765\n",
            "action: 0\n",
            "-0.1495891\n",
            "action: 0\n",
            "-0.13056278\n",
            "action: 0\n",
            "-0.10669255\n",
            "action: 0\n",
            "-0.077840835\n",
            "action: 0\n",
            "-0.043838553\n",
            "action: 0\n",
            "-0.00448684\n",
            "action: 0\n",
            "0.04044054\n",
            "action: 1\n",
            "0.09119386\n",
            "action: 1\n",
            "0.13634649\n",
            "action: 1\n",
            "0.1762341\n",
            "action: 1\n",
            "Total reward with simple policy: 50.0\n"
          ]
        }
      ],
      "source": [
        "def basic_policy(state):\n",
        "  pole_angle = state[2]\n",
        "  if pole_angle < 0:\n",
        "    return 0\n",
        "  else:\n",
        "    return 1\n",
        "\n",
        "env = gym.make(\"CartPole-v1\", render_mode=\"rgb_array\")\n",
        "state, info = env.reset(seed=314)\n",
        "\n",
        "done = False\n",
        "total_reward = 0\n",
        "\n",
        "while not done:\n",
        "    print(state[2])\n",
        "    action = basic_policy(state)\n",
        "    print(f'action: {action}')\n",
        "    state, reward, terminated, truncated, info = env.step(action)\n",
        "    total_reward += reward\n",
        "    done = terminated or truncated\n",
        "\n",
        "print(\"Total reward with simple policy:\", total_reward)"
      ]
    },
    {
      "cell_type": "markdown",
      "metadata": {
        "id": "wIq0UJphB_XP"
      },
      "source": [
        "#### 2) Simulating episodes with the simple policy  \n",
        "\n",
        "2a) **(POINTS: 2)** Run 1000 episodes each with 100 time steps. Use the `simple_policy` for taking actions.  \n",
        "Each time step will call the `step()` method to get the next state and reward. Produce a boxplot of the rewards from each episode."
      ]
    },
    {
      "cell_type": "code",
      "source": [
        "import matplotlib.pyplot as plt"
      ],
      "metadata": {
        "id": "xfOPOTr2mJ1N"
      },
      "execution_count": 102,
      "outputs": []
    },
    {
      "cell_type": "code",
      "execution_count": 103,
      "metadata": {
        "id": "CnyTiBu-B_XP",
        "outputId": "0c43d78f-2e4e-4ffd-bd17-249764242807",
        "colab": {
          "base_uri": "https://localhost:8080/",
          "height": 468
        }
      },
      "outputs": [
        {
          "output_type": "display_data",
          "data": {
            "text/plain": [
              "<Figure size 800x500 with 1 Axes>"
            ],
            "image/png": "[encoded data removed]"
          },
          "metadata": {}
        }
      ],
      "source": [
        "env = gym.make(\"CartPole-v1\")\n",
        "\n",
        "n_episodes = 1000\n",
        "max_steps = 100\n",
        "episode_rewards = []\n",
        "\n",
        "for ep in range(n_episodes):\n",
        "    state, info = env.reset()\n",
        "    total_reward = 0\n",
        "\n",
        "    for t in range(max_steps):\n",
        "        action = basic_policy(state)\n",
        "        state, reward, terminated, truncated, info = env.step(action)\n",
        "        total_reward += reward\n",
        "        if terminated or truncated:\n",
        "            break\n",
        "    episode_rewards.append(total_reward)\n",
        "\n",
        "env.close()\n",
        "\n",
        "# Boxplot of rewards\n",
        "plt.figure(figsize=(8,5))\n",
        "plt.boxplot(episode_rewards, vert=True, patch_artist=True)\n",
        "plt.ylabel(\"Episode Reward\")\n",
        "plt.title(\"CartPole with Simple Policy (1000 Episodes, 100 Steps Max)\")\n",
        "plt.show()\n"
      ]
    },
    {
      "cell_type": "markdown",
      "metadata": {
        "id": "3vCGs_zlB_XP"
      },
      "source": [
        "2b) **(POINTS: 1)** Is this policy able to solve the cart pole problem? Explain your answer."
      ]
    },
    {
      "cell_type": "markdown",
      "source": [
        "The cart pole problem is defined as solved when it gives an average reward >= 195 over 100 consecutive episodes. The boxplot above shows rewards ranging from about 10 to a maximum of about 70, which is below the target of 195. Given that we simulated 1000 episodes, we have enough data to claim that our policy is not sufficient to solve the cart pole problem, as it appears that not one of our episodes resulted in a reward over 195."
      ],
      "metadata": {
        "id": "FWuFCpKGmf2U"
      }
    },
    {
      "cell_type": "markdown",
      "metadata": {
        "id": "5Iz7bmXTB_XP"
      },
      "source": [
        "#### 3) From Question [2], what is the mean and maximum reward (roughly)?\n",
        "**(POINTS: 1)**"
      ]
    },
    {
      "cell_type": "code",
      "execution_count": 104,
      "metadata": {
        "id": "owuzui2wB_XP",
        "outputId": "d3a52e74-1f69-4dd9-d6ac-7e67bd2fef3b",
        "colab": {
          "base_uri": "https://localhost:8080/"
        }
      },
      "outputs": [
        {
          "output_type": "stream",
          "name": "stdout",
          "text": [
            "Mean reward:  42.51\n",
            "Max reward: 72.0\n"
          ]
        }
      ],
      "source": [
        "import numpy as np\n",
        "print(f'Mean reward:  {np.mean(episode_rewards)}')\n",
        "print(f'Max reward: {np.max(episode_rewards)}')"
      ]
    },
    {
      "cell_type": "markdown",
      "metadata": {
        "id": "gnH4J3988wNe"
      },
      "source": [
        "#### 4) Reversed Simple Policy\n",
        "**(POINTS: 2)**\n",
        "\n",
        "What happens if you reverse the simple policy, moving left when the pole leans right, and moving right when the pole leans left? This is not a good idea, but it's instructive. To show the result, produce the boxplot from before, and calculate the mean reward."
      ]
    },
    {
      "cell_type": "code",
      "execution_count": 105,
      "metadata": {
        "id": "YyoOpgHpB_XQ",
        "outputId": "6ae81830-8e34-42c4-f0ae-39a69beec067",
        "colab": {
          "base_uri": "https://localhost:8080/",
          "height": 468
        }
      },
      "outputs": [
        {
          "output_type": "display_data",
          "data": {
            "text/plain": [
              "<Figure size 800x500 with 1 Axes>"
            ],
            "image/png": "[encoded data removed]"
          },
          "metadata": {}
        }
      ],
      "source": [
        "def reversed_policy(state):\n",
        "  pole_angle = state[2]\n",
        "  if pole_angle < 0:\n",
        "    return 1\n",
        "  else:\n",
        "    return 0\n",
        "\n",
        "env = gym.make(\"CartPole-v1\")\n",
        "\n",
        "n_episodes = 1000\n",
        "max_steps = 100\n",
        "episode_rewards = []\n",
        "\n",
        "for ep in range(n_episodes):\n",
        "    state, info = env.reset()\n",
        "    total_reward = 0\n",
        "\n",
        "    for t in range(max_steps):\n",
        "        action = reversed_policy(state)\n",
        "        state, reward, terminated, truncated, info = env.step(action)\n",
        "        total_reward += reward\n",
        "        if terminated or truncated:\n",
        "            break\n",
        "    episode_rewards.append(total_reward)\n",
        "\n",
        "env.close()\n",
        "\n",
        "# Boxplot of rewards\n",
        "plt.figure(figsize=(8,5))\n",
        "plt.boxplot(episode_rewards, vert=True, patch_artist=True)\n",
        "plt.ylabel(\"Episode Reward\")\n",
        "plt.title(\"CartPole with Reversed Policy (1000 Episodes, 100 Steps Max)\")\n",
        "plt.show()\n"
      ]
    },
    {
      "cell_type": "code",
      "source": [
        "print(f'Mean reward with reversed policy: {np.mean(episode_rewards)}')"
      ],
      "metadata": {
        "id": "kgiPxnwKn4i_",
        "outputId": "aea12d39-337c-48f0-a521-269a061532cc",
        "colab": {
          "base_uri": "https://localhost:8080/"
        }
      },
      "execution_count": 106,
      "outputs": [
        {
          "output_type": "stream",
          "name": "stdout",
          "text": [
            "Mean reward with reversed policy: 8.768\n"
          ]
        }
      ]
    },
    {
      "cell_type": "markdown",
      "source": [
        "Our reversed policy resulted in a much smaller average reward, around 9."
      ],
      "metadata": {
        "id": "Bqpz29aboBMu"
      }
    },
    {
      "cell_type": "markdown",
      "metadata": {
        "id": "l8DPx4tyB_XQ"
      },
      "source": [
        "#### 5) Modified Policy\n",
        "**(POINTS: 2)** Full points for attempt and clear explanation.\n",
        "\n",
        "Time to get creative! See if you can try a different policy that improves the mean reward. Clearly explain your strategy."
      ]
    },
    {
      "cell_type": "markdown",
      "source": [
        "We know that our policy has to return an action value of 0 or 1, and it has four possible parameters to use to calculate the action: horizontal position of the cart, horizontal velocity of the cart, pole angle, and pole angular velocity. We can take a linear combination of these four parameters, weighting them according to their importance.\n",
        "\n",
        "The position of the cart is only important when it is far left or right. It should not be ignored, but it also is less important than the other parameters for keeping the pole upright. We'll choose 0.1 as the weight.\n",
        "\n",
        "The cart velocity is slightly more important, as a fast-moving cart is more likely to go off the screen and end the run. We'll set its weight as 1, indicating that it is more important than cart position.\n",
        "\n",
        "The pole angle is very important. If the pole reaches an extreme angle, the run will end immediately. We account for this by weighting it the highest, at 10.\n",
        "\n",
        "The pole angular velocity is similarly important. If the velocity is too fast, the pole will be moving so quickly that it will take multiple corrective actions to slow it down, moving our cart too far to the right or left. We'll weight this slightly heavier than cart speed, at 2, but lower than pole angle.\n",
        "\n",
        "If the calculated value from our linear combination is greater than 0, we will return an action value of 1, moving the cart to the right. If the calculated value is negative, we'll return 0 and move the cart left.\n"
      ],
      "metadata": {
        "id": "-TR-tLLOsGEB"
      }
    },
    {
      "cell_type": "code",
      "execution_count": 107,
      "metadata": {
        "id": "w0oF1fYbB_XQ",
        "outputId": "b4fa9fc2-5afe-459a-9a37-38b48f7a6c59",
        "colab": {
          "base_uri": "https://localhost:8080/",
          "height": 468
        }
      },
      "outputs": [
        {
          "output_type": "display_data",
          "data": {
            "text/plain": [
              "<Figure size 800x500 with 1 Axes>"
            ],
            "image/png": "[encoded data removed]"
          },
          "metadata": {}
        }
      ],
      "source": [
        "def improved_policy(state):\n",
        "  horizontal_position = state[0]\n",
        "  velocity = state[1]\n",
        "  pole_angle = state[2]\n",
        "  pole_angular_velocity = state[3]\n",
        "\n",
        "  position_weight = 0.1\n",
        "  velocity_weight = 1\n",
        "  pole_angle_weight = 10\n",
        "  pole_angular_velocity_weight = 2\n",
        "\n",
        "  #linear combination of the parameters and their weights\n",
        "  action_value = horizontal_position * position_weight + velocity * velocity_weight + pole_angle * pole_angle_weight + pole_angular_velocity * pole_angular_velocity_weight\n",
        "\n",
        "  #move cart right if calculated value is positive, left if negative\n",
        "  return 1 if action_value > 0 else 0\n",
        "\n",
        "env = gym.make(\"CartPole-v1\")\n",
        "\n",
        "#run 1000 episodes with 100 steps as before, to see if our policy improves the basic policy\n",
        "n_episodes = 1000\n",
        "max_steps = 100\n",
        "episode_rewards = []\n",
        "\n",
        "def run_cartpole(env, n_episodes, max_steps, episode_rewards):\n",
        "  for ep in range(n_episodes):\n",
        "      state, info = env.reset()\n",
        "      total_reward = 0\n",
        "\n",
        "      for t in range(max_steps):\n",
        "          action = improved_policy(state)\n",
        "          state, reward, terminated, truncated, info = env.step(action)\n",
        "          total_reward += reward\n",
        "          if terminated or truncated:\n",
        "              break\n",
        "      episode_rewards.append(total_reward)\n",
        "\n",
        "  env.close()\n",
        "\n",
        "run_cartpole(env, 1000, 100, episode_rewards)\n",
        "\n",
        "# Boxplot of rewards\n",
        "plt.figure(figsize=(8,5))\n",
        "plt.boxplot(episode_rewards, vert=True, patch_artist=True)\n",
        "plt.ylabel(\"Episode Reward\")\n",
        "plt.title(\"CartPole with Improved Policy (1000 Episodes, 100 Steps Max)\")\n",
        "plt.show()"
      ]
    },
    {
      "cell_type": "markdown",
      "source": [
        "With the improved policy, every run is reaching a reward of 100, which is the maximum number of steps. Let's expand the max steps to 500 and run 100 consecutive episodes to see if we have \"solved\" this problem."
      ],
      "metadata": {
        "id": "NE5qAacAquQk"
      }
    },
    {
      "cell_type": "code",
      "source": [
        "env = gym.make(\"CartPole-v1\", render_mode=\"rgb_array\")\n",
        "episode_rewards = []\n",
        "run_cartpole(env, 100, max_steps=1000, episode_rewards=episode_rewards)\n",
        "\n",
        "# Boxplot of rewards\n",
        "plt.figure(figsize=(8,5))\n",
        "plt.boxplot(episode_rewards, vert=True, patch_artist=True)\n",
        "plt.ylabel(\"Episode Reward\")\n",
        "plt.title(\"CartPole with Improved Policy (100 Episodes, 500 Steps Max)\")\n",
        "plt.show()\n",
        "\n",
        "print(f'Mean reward: {np.mean(episode_rewards)}')"
      ],
      "metadata": {
        "id": "Jnia4z9sqt3n",
        "outputId": "8cfc3fd0-8672-4b2e-a198-9b51a2845968",
        "colab": {
          "base_uri": "https://localhost:8080/",
          "height": 485
        }
      },
      "execution_count": 110,
      "outputs": [
        {
          "output_type": "display_data",
          "data": {
            "text/plain": [
              "<Figure size 800x500 with 1 Axes>"
            ],
            "image/png": "[encoded data removed]"
          },
          "metadata": {}
        },
        {
          "output_type": "stream",
          "name": "stdout",
          "text": [
            "Mean reward: 500.0\n"
          ]
        }
      ]
    },
    {
      "cell_type": "markdown",
      "source": [
        "The mean reward over 100 episodes is 500, which is the maximum number of steps. Our new policy has solved the cart pole problem!"
      ],
      "metadata": {
        "id": "mxxoLkJFrgGh"
      }
    },
    {
      "cell_type": "markdown",
      "metadata": {
        "id": "t_61H87rA_MT"
      },
      "source": [
        "---  \n",
        "\n",
        "### Wrapup\n",
        "\n",
        "This demo illustrated some basic ideas of reinforcement learning and got you started with OpenAI Gym.\n",
        "\n",
        "We will revisit this example later, bringing in more tools for a better solution.\n",
        "\n",
        "---\n"
      ]
    }
  ],
  "metadata": {
    "colab": {
      "provenance": []
    },
    "kernelspec": {
      "display_name": "Python 3 (ipykernel)",
      "language": "python",
      "name": "python3"
    },
    "language_info": {
      "codemirror_mode": {
        "name": "ipython",
        "version": 3
      },
      "file_extension": ".py",
      "mimetype": "text/x-python",
      "name": "python",
      "nbconvert_exporter": "python",
      "pygments_lexer": "ipython3",
      "version": "3.12.9"
    }
  },
  "nbformat": 4,
  "nbformat_minor": 0
}